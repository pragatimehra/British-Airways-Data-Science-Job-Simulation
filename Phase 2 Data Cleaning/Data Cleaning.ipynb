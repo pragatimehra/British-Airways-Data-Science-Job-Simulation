{
 "cells": [
  {
   "cell_type": "markdown",
   "id": "7c5e4037",
   "metadata": {},
   "source": [
    "# Data Cleaning\n",
    "\n",
    "**Now that we've obtained data from the website, it's important to note that it's not yet in a clean and analysis-ready state. The reviews section requires preprocessing to handle punctuation, spelling, and other characters.**\n",
    "\n",
    "CSV File Utilized: BA_Reviews.csv\n",
    "\n",
    "<hr>"
   ]
  },
  {
   "cell_type": "markdown",
   "id": "a5d0853e",
   "metadata": {},
   "source": [
    "## Imports\n",
    "\n",
    "`pandas` for Data Manipulation <br>\n",
    "`os` for System Interaction <br>\n",
    "`re` for Regular Expressions"
   ]
  },
  {
   "cell_type": "code",
   "execution_count": 1,
   "id": "7a48f8f0",
   "metadata": {},
   "outputs": [],
   "source": [
    "import pandas as pd\n",
    "import os\n",
    "import re"
   ]
  },
  {
   "cell_type": "markdown",
   "id": "ef5a8d38",
   "metadata": {},
   "source": [
    "## Creating a DataFrame from `csv` file"
   ]
  },
  {
   "cell_type": "code",
   "execution_count": 2,
   "id": "2efb9410",
   "metadata": {},
   "outputs": [],
   "source": [
    "cwd = os.getcwd()\n",
    "\n",
    "df = pd.read_csv(cwd + \"/BA_Reviews.csv\", index_col = 0)"
   ]
  },
  {
   "cell_type": "code",
   "execution_count": 3,
   "id": "02331a31",
   "metadata": {},
   "outputs": [
    {
     "data": {
      "text/html": [
       "<div>\n",
       "<style scoped>\n",
       "    .dataframe tbody tr th:only-of-type {\n",
       "        vertical-align: middle;\n",
       "    }\n",
       "\n",
       "    .dataframe tbody tr th {\n",
       "        vertical-align: top;\n",
       "    }\n",
       "\n",
       "    .dataframe thead th {\n",
       "        text-align: right;\n",
       "    }\n",
       "</style>\n",
       "<table border=\"1\" class=\"dataframe\">\n",
       "  <thead>\n",
       "    <tr style=\"text-align: right;\">\n",
       "      <th></th>\n",
       "      <th>Review</th>\n",
       "      <th>Rating</th>\n",
       "      <th>Date</th>\n",
       "      <th>Country</th>\n",
       "    </tr>\n",
       "  </thead>\n",
       "  <tbody>\n",
       "    <tr>\n",
       "      <th>0</th>\n",
       "      <td>Not Verified |   Flew back from Malta after sc...</td>\n",
       "      <td>5.0</td>\n",
       "      <td>22nd October 2023</td>\n",
       "      <td>United Kingdom</td>\n",
       "    </tr>\n",
       "    <tr>\n",
       "      <th>1</th>\n",
       "      <td>Not Verified | Cabin luggage had to go to carg...</td>\n",
       "      <td>8.0</td>\n",
       "      <td>21st October 2023</td>\n",
       "      <td>Netherlands</td>\n",
       "    </tr>\n",
       "    <tr>\n",
       "      <th>2</th>\n",
       "      <td>✅ Trip Verified |  I have been using BA for a ...</td>\n",
       "      <td>3.0</td>\n",
       "      <td>21st October 2023</td>\n",
       "      <td>United Kingdom</td>\n",
       "    </tr>\n",
       "    <tr>\n",
       "      <th>3</th>\n",
       "      <td>✅ Trip Verified |   I flew from Istanbul to Lo...</td>\n",
       "      <td>4.0</td>\n",
       "      <td>19th October 2023</td>\n",
       "      <td>United Kingdom</td>\n",
       "    </tr>\n",
       "    <tr>\n",
       "      <th>4</th>\n",
       "      <td>Not Verified |  I have flow on BA several time...</td>\n",
       "      <td>1.0</td>\n",
       "      <td>19th October 2023</td>\n",
       "      <td>United States</td>\n",
       "    </tr>\n",
       "  </tbody>\n",
       "</table>\n",
       "</div>"
      ],
      "text/plain": [
       "                                              Review  Rating  \\\n",
       "0  Not Verified |   Flew back from Malta after sc...     5.0   \n",
       "1  Not Verified | Cabin luggage had to go to carg...     8.0   \n",
       "2  ✅ Trip Verified |  I have been using BA for a ...     3.0   \n",
       "3  ✅ Trip Verified |   I flew from Istanbul to Lo...     4.0   \n",
       "4  Not Verified |  I have flow on BA several time...     1.0   \n",
       "\n",
       "                Date         Country  \n",
       "0  22nd October 2023  United Kingdom  \n",
       "1  21st October 2023     Netherlands  \n",
       "2  21st October 2023  United Kingdom  \n",
       "3  19th October 2023  United Kingdom  \n",
       "4  19th October 2023   United States  "
      ]
     },
     "execution_count": 3,
     "metadata": {},
     "output_type": "execute_result"
    }
   ],
   "source": [
    "df.head(5)"
   ]
  },
  {
   "cell_type": "markdown",
   "id": "6e606f2c",
   "metadata": {},
   "source": [
    "<hr>\n",
    "\n",
    "\n",
    "## Review Column"
   ]
  },
  {
   "cell_type": "markdown",
   "id": "dc006a87",
   "metadata": {},
   "source": [
    "**Checking which users are `Verified`**"
   ]
  },
  {
   "cell_type": "code",
   "execution_count": 4,
   "id": "f55f7739",
   "metadata": {},
   "outputs": [
    {
     "data": {
      "text/html": [
       "<div>\n",
       "<style scoped>\n",
       "    .dataframe tbody tr th:only-of-type {\n",
       "        vertical-align: middle;\n",
       "    }\n",
       "\n",
       "    .dataframe tbody tr th {\n",
       "        vertical-align: top;\n",
       "    }\n",
       "\n",
       "    .dataframe thead th {\n",
       "        text-align: right;\n",
       "    }\n",
       "</style>\n",
       "<table border=\"1\" class=\"dataframe\">\n",
       "  <thead>\n",
       "    <tr style=\"text-align: right;\">\n",
       "      <th></th>\n",
       "      <th>Review</th>\n",
       "      <th>Rating</th>\n",
       "      <th>Date</th>\n",
       "      <th>Country</th>\n",
       "      <th>Verified</th>\n",
       "    </tr>\n",
       "  </thead>\n",
       "  <tbody>\n",
       "    <tr>\n",
       "      <th>0</th>\n",
       "      <td>Not Verified |   Flew back from Malta after sc...</td>\n",
       "      <td>5.0</td>\n",
       "      <td>22nd October 2023</td>\n",
       "      <td>United Kingdom</td>\n",
       "      <td>False</td>\n",
       "    </tr>\n",
       "    <tr>\n",
       "      <th>1</th>\n",
       "      <td>Not Verified | Cabin luggage had to go to carg...</td>\n",
       "      <td>8.0</td>\n",
       "      <td>21st October 2023</td>\n",
       "      <td>Netherlands</td>\n",
       "      <td>False</td>\n",
       "    </tr>\n",
       "    <tr>\n",
       "      <th>2</th>\n",
       "      <td>✅ Trip Verified |  I have been using BA for a ...</td>\n",
       "      <td>3.0</td>\n",
       "      <td>21st October 2023</td>\n",
       "      <td>United Kingdom</td>\n",
       "      <td>True</td>\n",
       "    </tr>\n",
       "    <tr>\n",
       "      <th>3</th>\n",
       "      <td>✅ Trip Verified |   I flew from Istanbul to Lo...</td>\n",
       "      <td>4.0</td>\n",
       "      <td>19th October 2023</td>\n",
       "      <td>United Kingdom</td>\n",
       "      <td>True</td>\n",
       "    </tr>\n",
       "    <tr>\n",
       "      <th>4</th>\n",
       "      <td>Not Verified |  I have flow on BA several time...</td>\n",
       "      <td>1.0</td>\n",
       "      <td>19th October 2023</td>\n",
       "      <td>United States</td>\n",
       "      <td>False</td>\n",
       "    </tr>\n",
       "  </tbody>\n",
       "</table>\n",
       "</div>"
      ],
      "text/plain": [
       "                                              Review  Rating  \\\n",
       "0  Not Verified |   Flew back from Malta after sc...     5.0   \n",
       "1  Not Verified | Cabin luggage had to go to carg...     8.0   \n",
       "2  ✅ Trip Verified |  I have been using BA for a ...     3.0   \n",
       "3  ✅ Trip Verified |   I flew from Istanbul to Lo...     4.0   \n",
       "4  Not Verified |  I have flow on BA several time...     1.0   \n",
       "\n",
       "                Date         Country  Verified  \n",
       "0  22nd October 2023  United Kingdom     False  \n",
       "1  21st October 2023     Netherlands     False  \n",
       "2  21st October 2023  United Kingdom      True  \n",
       "3  19th October 2023  United Kingdom      True  \n",
       "4  19th October 2023   United States     False  "
      ]
     },
     "execution_count": 4,
     "metadata": {},
     "output_type": "execute_result"
    }
   ],
   "source": [
    "df['Verified'] = df.Review.str.contains('Trip Verified')\n",
    "\n",
    "df.head(5)"
   ]
  },
  {
   "cell_type": "markdown",
   "id": "12a94fc7",
   "metadata": {},
   "source": [
    "**Cleaning Reviews:**\n",
    "**We will extract the column of reviews into a separate dataframe and clean it for semantic analysis.**"
   ]
  },
  {
   "cell_type": "code",
   "execution_count": 5,
   "id": "06e90890",
   "metadata": {},
   "outputs": [
    {
     "name": "stderr",
     "output_type": "stream",
     "text": [
      "[nltk_data] Downloading package stopwords to\n",
      "[nltk_data]     /Users/pragatimehra/nltk_data...\n",
      "[nltk_data]   Package stopwords is already up-to-date!\n",
      "[nltk_data] Downloading package wordnet to\n",
      "[nltk_data]     /Users/pragatimehra/nltk_data...\n",
      "[nltk_data]   Package wordnet is already up-to-date!\n"
     ]
    }
   ],
   "source": [
    "import nltk\n",
    "from nltk.stem import WordNetLemmatizer\n",
    "from nltk.corpus import stopwords\n",
    "\n",
    "nltk.download('stopwords')\n",
    "nltk.download('wordnet')\n",
    "\n",
    "# This lemmatizer is used to reduce words to their base or root form.\n",
    "lemma = WordNetLemmatizer()\n",
    "\n",
    "# Extracting Review Text from Review Column\n",
    "review_data = []\n",
    "\n",
    "for review_text in df['Review']:\n",
    "    if '|' in review_text:\n",
    "        parts = review_text.split('|')\n",
    "        review_data.append(parts[1])\n",
    "    else:\n",
    "        review_data.append(review_text)\n",
    "        \n",
    "\n",
    "# Loop through each review, remove punctuations, convert to lowercase, split, lemmatize, and add to corpus\n",
    "corpus = []\n",
    "for rev in review_data:\n",
    "    rev = re.sub('[^a-zA-Z]', ' ', rev)\n",
    "    rev = rev.lower()\n",
    "    rev = rev.split()\n",
    "    rev = [lemma.lemmatize(word) for word in rev if word not in set(stopwords.words(\"english\"))]\n",
    "    rev = \" \".join(rev)\n",
    "    corpus.append(rev)"
   ]
  },
  {
   "cell_type": "code",
   "execution_count": 6,
   "id": "43b5eede",
   "metadata": {},
   "outputs": [],
   "source": [
    "df['Corpus'] = corpus"
   ]
  },
  {
   "cell_type": "markdown",
   "id": "1a59233e",
   "metadata": {},
   "source": [
    "    Set Pandas display options to show all rows and columns\n",
    "        pd.set_option('display.max_rows', None)\n",
    "        pd.set_option('display.max_columns', None)\n",
    "        \n",
    "    Reset using\n",
    "        pd.reset_option('display.max_rows', None)\n",
    "        pd.reset_option('display.max_columns', None)"
   ]
  },
  {
   "cell_type": "code",
   "execution_count": 7,
   "id": "f0a104d1",
   "metadata": {},
   "outputs": [
    {
     "data": {
      "text/html": [
       "<div>\n",
       "<style scoped>\n",
       "    .dataframe tbody tr th:only-of-type {\n",
       "        vertical-align: middle;\n",
       "    }\n",
       "\n",
       "    .dataframe tbody tr th {\n",
       "        vertical-align: top;\n",
       "    }\n",
       "\n",
       "    .dataframe thead th {\n",
       "        text-align: right;\n",
       "    }\n",
       "</style>\n",
       "<table border=\"1\" class=\"dataframe\">\n",
       "  <thead>\n",
       "    <tr style=\"text-align: right;\">\n",
       "      <th></th>\n",
       "      <th>Review</th>\n",
       "      <th>Rating</th>\n",
       "      <th>Date</th>\n",
       "      <th>Country</th>\n",
       "      <th>Verified</th>\n",
       "      <th>Corpus</th>\n",
       "    </tr>\n",
       "  </thead>\n",
       "  <tbody>\n",
       "    <tr>\n",
       "      <th>0</th>\n",
       "      <td>Not Verified |   Flew back from Malta after sc...</td>\n",
       "      <td>5.0</td>\n",
       "      <td>22nd October 2023</td>\n",
       "      <td>United Kingdom</td>\n",
       "      <td>False</td>\n",
       "      <td>flew back malta scattering son ash favourite s...</td>\n",
       "    </tr>\n",
       "    <tr>\n",
       "      <th>1</th>\n",
       "      <td>Not Verified | Cabin luggage had to go to carg...</td>\n",
       "      <td>8.0</td>\n",
       "      <td>21st October 2023</td>\n",
       "      <td>Netherlands</td>\n",
       "      <td>False</td>\n",
       "      <td>cabin luggage go cargo even said carried medic...</td>\n",
       "    </tr>\n",
       "    <tr>\n",
       "      <th>2</th>\n",
       "      <td>✅ Trip Verified |  I have been using BA for a ...</td>\n",
       "      <td>3.0</td>\n",
       "      <td>21st October 2023</td>\n",
       "      <td>United Kingdom</td>\n",
       "      <td>True</td>\n",
       "      <td>using ba average cannot say pretty satisfied b...</td>\n",
       "    </tr>\n",
       "    <tr>\n",
       "      <th>3</th>\n",
       "      <td>✅ Trip Verified |   I flew from Istanbul to Lo...</td>\n",
       "      <td>4.0</td>\n",
       "      <td>19th October 2023</td>\n",
       "      <td>United Kingdom</td>\n",
       "      <td>True</td>\n",
       "      <td>flew istanbul london business class half fligh...</td>\n",
       "    </tr>\n",
       "    <tr>\n",
       "      <th>4</th>\n",
       "      <td>Not Verified |  I have flow on BA several time...</td>\n",
       "      <td>1.0</td>\n",
       "      <td>19th October 2023</td>\n",
       "      <td>United States</td>\n",
       "      <td>False</td>\n",
       "      <td>flow ba several time since airline started non...</td>\n",
       "    </tr>\n",
       "  </tbody>\n",
       "</table>\n",
       "</div>"
      ],
      "text/plain": [
       "                                              Review  Rating  \\\n",
       "0  Not Verified |   Flew back from Malta after sc...     5.0   \n",
       "1  Not Verified | Cabin luggage had to go to carg...     8.0   \n",
       "2  ✅ Trip Verified |  I have been using BA for a ...     3.0   \n",
       "3  ✅ Trip Verified |   I flew from Istanbul to Lo...     4.0   \n",
       "4  Not Verified |  I have flow on BA several time...     1.0   \n",
       "\n",
       "                Date         Country  Verified  \\\n",
       "0  22nd October 2023  United Kingdom     False   \n",
       "1  21st October 2023     Netherlands     False   \n",
       "2  21st October 2023  United Kingdom      True   \n",
       "3  19th October 2023  United Kingdom      True   \n",
       "4  19th October 2023   United States     False   \n",
       "\n",
       "                                              Corpus  \n",
       "0  flew back malta scattering son ash favourite s...  \n",
       "1  cabin luggage go cargo even said carried medic...  \n",
       "2  using ba average cannot say pretty satisfied b...  \n",
       "3  flew istanbul london business class half fligh...  \n",
       "4  flow ba several time since airline started non...  "
      ]
     },
     "execution_count": 7,
     "metadata": {},
     "output_type": "execute_result"
    }
   ],
   "source": [
    "df.head(5)"
   ]
  },
  {
   "cell_type": "markdown",
   "id": "a870b487",
   "metadata": {},
   "source": [
    "<hr>\n",
    "\n",
    "## Date Column"
   ]
  },
  {
   "cell_type": "code",
   "execution_count": 8,
   "id": "847e0f17",
   "metadata": {},
   "outputs": [
    {
     "data": {
      "text/plain": [
       "dtype('O')"
      ]
     },
     "execution_count": 8,
     "metadata": {},
     "output_type": "execute_result"
    }
   ],
   "source": [
    "df.Date.dtypes"
   ]
  },
  {
   "cell_type": "markdown",
   "id": "bf1a7193",
   "metadata": {},
   "source": [
    "**Convert the date to datetime format**"
   ]
  },
  {
   "cell_type": "code",
   "execution_count": 9,
   "id": "75774eb5",
   "metadata": {},
   "outputs": [],
   "source": [
    "# Function to parse date strings and format them as dd-mm-yyyy\n",
    "def format_date(date_str):\n",
    "    parts = date_str.split()\n",
    "    day = int(parts[0].rstrip('stndrdth'))  # Remove ordinal indicators\n",
    "    month = pd.to_datetime(parts[1], format='%B').month\n",
    "    year = int(parts[2])\n",
    "    return f\"{day:02d}-{month:02d}-{year}\"\n",
    "\n",
    "df['Formatted Date'] = df['Date'].apply(format_date)"
   ]
  },
  {
   "cell_type": "code",
   "execution_count": 10,
   "id": "b14aa104",
   "metadata": {},
   "outputs": [
    {
     "data": {
      "text/html": [
       "<div>\n",
       "<style scoped>\n",
       "    .dataframe tbody tr th:only-of-type {\n",
       "        vertical-align: middle;\n",
       "    }\n",
       "\n",
       "    .dataframe tbody tr th {\n",
       "        vertical-align: top;\n",
       "    }\n",
       "\n",
       "    .dataframe thead th {\n",
       "        text-align: right;\n",
       "    }\n",
       "</style>\n",
       "<table border=\"1\" class=\"dataframe\">\n",
       "  <thead>\n",
       "    <tr style=\"text-align: right;\">\n",
       "      <th></th>\n",
       "      <th>Review</th>\n",
       "      <th>Rating</th>\n",
       "      <th>Date</th>\n",
       "      <th>Country</th>\n",
       "      <th>Verified</th>\n",
       "      <th>Corpus</th>\n",
       "      <th>Formatted Date</th>\n",
       "    </tr>\n",
       "  </thead>\n",
       "  <tbody>\n",
       "    <tr>\n",
       "      <th>0</th>\n",
       "      <td>Not Verified |   Flew back from Malta after sc...</td>\n",
       "      <td>5.0</td>\n",
       "      <td>22nd October 2023</td>\n",
       "      <td>United Kingdom</td>\n",
       "      <td>False</td>\n",
       "      <td>flew back malta scattering son ash favourite s...</td>\n",
       "      <td>22-10-2023</td>\n",
       "    </tr>\n",
       "    <tr>\n",
       "      <th>1</th>\n",
       "      <td>Not Verified | Cabin luggage had to go to carg...</td>\n",
       "      <td>8.0</td>\n",
       "      <td>21st October 2023</td>\n",
       "      <td>Netherlands</td>\n",
       "      <td>False</td>\n",
       "      <td>cabin luggage go cargo even said carried medic...</td>\n",
       "      <td>21-10-2023</td>\n",
       "    </tr>\n",
       "    <tr>\n",
       "      <th>2</th>\n",
       "      <td>✅ Trip Verified |  I have been using BA for a ...</td>\n",
       "      <td>3.0</td>\n",
       "      <td>21st October 2023</td>\n",
       "      <td>United Kingdom</td>\n",
       "      <td>True</td>\n",
       "      <td>using ba average cannot say pretty satisfied b...</td>\n",
       "      <td>21-10-2023</td>\n",
       "    </tr>\n",
       "    <tr>\n",
       "      <th>3</th>\n",
       "      <td>✅ Trip Verified |   I flew from Istanbul to Lo...</td>\n",
       "      <td>4.0</td>\n",
       "      <td>19th October 2023</td>\n",
       "      <td>United Kingdom</td>\n",
       "      <td>True</td>\n",
       "      <td>flew istanbul london business class half fligh...</td>\n",
       "      <td>19-10-2023</td>\n",
       "    </tr>\n",
       "    <tr>\n",
       "      <th>4</th>\n",
       "      <td>Not Verified |  I have flow on BA several time...</td>\n",
       "      <td>1.0</td>\n",
       "      <td>19th October 2023</td>\n",
       "      <td>United States</td>\n",
       "      <td>False</td>\n",
       "      <td>flow ba several time since airline started non...</td>\n",
       "      <td>19-10-2023</td>\n",
       "    </tr>\n",
       "  </tbody>\n",
       "</table>\n",
       "</div>"
      ],
      "text/plain": [
       "                                              Review  Rating  \\\n",
       "0  Not Verified |   Flew back from Malta after sc...     5.0   \n",
       "1  Not Verified | Cabin luggage had to go to carg...     8.0   \n",
       "2  ✅ Trip Verified |  I have been using BA for a ...     3.0   \n",
       "3  ✅ Trip Verified |   I flew from Istanbul to Lo...     4.0   \n",
       "4  Not Verified |  I have flow on BA several time...     1.0   \n",
       "\n",
       "                Date         Country  Verified  \\\n",
       "0  22nd October 2023  United Kingdom     False   \n",
       "1  21st October 2023     Netherlands     False   \n",
       "2  21st October 2023  United Kingdom      True   \n",
       "3  19th October 2023  United Kingdom      True   \n",
       "4  19th October 2023   United States     False   \n",
       "\n",
       "                                              Corpus Formatted Date  \n",
       "0  flew back malta scattering son ash favourite s...     22-10-2023  \n",
       "1  cabin luggage go cargo even said carried medic...     21-10-2023  \n",
       "2  using ba average cannot say pretty satisfied b...     21-10-2023  \n",
       "3  flew istanbul london business class half fligh...     19-10-2023  \n",
       "4  flow ba several time since airline started non...     19-10-2023  "
      ]
     },
     "execution_count": 10,
     "metadata": {},
     "output_type": "execute_result"
    }
   ],
   "source": [
    "df.head(5)"
   ]
  },
  {
   "cell_type": "markdown",
   "id": "37d54206",
   "metadata": {},
   "source": [
    "<hr>\n",
    "\n",
    "## Rating Column"
   ]
  },
  {
   "cell_type": "code",
   "execution_count": 11,
   "id": "14a3182d",
   "metadata": {},
   "outputs": [
    {
     "data": {
      "text/plain": [
       "array([ 5.,  8.,  3.,  4.,  1.,  2., 10.,  6.,  7.,  9., nan])"
      ]
     },
     "execution_count": 11,
     "metadata": {},
     "output_type": "execute_result"
    }
   ],
   "source": [
    "df.Rating.unique()"
   ]
  },
  {
   "cell_type": "markdown",
   "id": "580c03d1",
   "metadata": {},
   "source": [
    "**Checking NaN Rows**"
   ]
  },
  {
   "cell_type": "code",
   "execution_count": 12,
   "id": "38e810bf",
   "metadata": {},
   "outputs": [
    {
     "data": {
      "text/html": [
       "<div>\n",
       "<style scoped>\n",
       "    .dataframe tbody tr th:only-of-type {\n",
       "        vertical-align: middle;\n",
       "    }\n",
       "\n",
       "    .dataframe tbody tr th {\n",
       "        vertical-align: top;\n",
       "    }\n",
       "\n",
       "    .dataframe thead th {\n",
       "        text-align: right;\n",
       "    }\n",
       "</style>\n",
       "<table border=\"1\" class=\"dataframe\">\n",
       "  <thead>\n",
       "    <tr style=\"text-align: right;\">\n",
       "      <th></th>\n",
       "      <th>Review</th>\n",
       "      <th>Rating</th>\n",
       "      <th>Date</th>\n",
       "      <th>Country</th>\n",
       "      <th>Verified</th>\n",
       "      <th>Corpus</th>\n",
       "      <th>Formatted Date</th>\n",
       "    </tr>\n",
       "  </thead>\n",
       "  <tbody>\n",
       "    <tr>\n",
       "      <th>3144</th>\n",
       "      <td>Bangkok to London Heathrow. 8 Sep 2014. On thi...</td>\n",
       "      <td>NaN</td>\n",
       "      <td>23rd January 2015</td>\n",
       "      <td>United Kingdom</td>\n",
       "      <td>False</td>\n",
       "      <td>bangkok london heathrow sep flight british air...</td>\n",
       "      <td>23-01-2015</td>\n",
       "    </tr>\n",
       "    <tr>\n",
       "      <th>3272</th>\n",
       "      <td>Flew with my wife LHR-JNB BA055 on an A380 Oct...</td>\n",
       "      <td>NaN</td>\n",
       "      <td>20th November 2014</td>\n",
       "      <td>France</td>\n",
       "      <td>False</td>\n",
       "      <td>flew wife lhr jnb ba october st back jnb lhr b...</td>\n",
       "      <td>20-11-2014</td>\n",
       "    </tr>\n",
       "    <tr>\n",
       "      <th>3294</th>\n",
       "      <td>31.10.14 - LHR to Berlin Tegel. Flight out goo...</td>\n",
       "      <td>NaN</td>\n",
       "      <td>6th November 2014</td>\n",
       "      <td>United Kingdom</td>\n",
       "      <td>False</td>\n",
       "      <td>lhr berlin tegel flight good modern plane clea...</td>\n",
       "      <td>06-11-2014</td>\n",
       "    </tr>\n",
       "    <tr>\n",
       "      <th>3527</th>\n",
       "      <td>Just taken a BA flight LHR-JFK rtn. Outstandin...</td>\n",
       "      <td>NaN</td>\n",
       "      <td>13th July 2014</td>\n",
       "      <td>United Kingdom</td>\n",
       "      <td>False</td>\n",
       "      <td>taken ba flight lhr jfk rtn outstanding servic...</td>\n",
       "      <td>13-07-2014</td>\n",
       "    </tr>\n",
       "    <tr>\n",
       "      <th>3559</th>\n",
       "      <td>Flight BA 202 Boston to Heathrow. Aircraft B74...</td>\n",
       "      <td>NaN</td>\n",
       "      <td>23rd June 2014</td>\n",
       "      <td>United Kingdom</td>\n",
       "      <td>False</td>\n",
       "      <td>flight ba boston heathrow aircraft b version s...</td>\n",
       "      <td>23-06-2014</td>\n",
       "    </tr>\n",
       "  </tbody>\n",
       "</table>\n",
       "</div>"
      ],
      "text/plain": [
       "                                                 Review  Rating  \\\n",
       "3144  Bangkok to London Heathrow. 8 Sep 2014. On thi...     NaN   \n",
       "3272  Flew with my wife LHR-JNB BA055 on an A380 Oct...     NaN   \n",
       "3294  31.10.14 - LHR to Berlin Tegel. Flight out goo...     NaN   \n",
       "3527  Just taken a BA flight LHR-JFK rtn. Outstandin...     NaN   \n",
       "3559  Flight BA 202 Boston to Heathrow. Aircraft B74...     NaN   \n",
       "\n",
       "                    Date         Country  Verified  \\\n",
       "3144   23rd January 2015  United Kingdom     False   \n",
       "3272  20th November 2014          France     False   \n",
       "3294   6th November 2014  United Kingdom     False   \n",
       "3527      13th July 2014  United Kingdom     False   \n",
       "3559      23rd June 2014  United Kingdom     False   \n",
       "\n",
       "                                                 Corpus Formatted Date  \n",
       "3144  bangkok london heathrow sep flight british air...     23-01-2015  \n",
       "3272  flew wife lhr jnb ba october st back jnb lhr b...     20-11-2014  \n",
       "3294  lhr berlin tegel flight good modern plane clea...     06-11-2014  \n",
       "3527  taken ba flight lhr jfk rtn outstanding servic...     13-07-2014  \n",
       "3559  flight ba boston heathrow aircraft b version s...     23-06-2014  "
      ]
     },
     "execution_count": 12,
     "metadata": {},
     "output_type": "execute_result"
    }
   ],
   "source": [
    "df[pd.isna(df['Rating'])]"
   ]
  },
  {
   "cell_type": "markdown",
   "id": "735fb108",
   "metadata": {},
   "source": [
    "**Removing NaN valued Rows**"
   ]
  },
  {
   "cell_type": "code",
   "execution_count": 13,
   "id": "0e98e86a",
   "metadata": {},
   "outputs": [],
   "source": [
    "df.drop(df[pd.isna(df['Rating'])].index, inplace=True)"
   ]
  },
  {
   "cell_type": "code",
   "execution_count": 14,
   "id": "d0e729a4",
   "metadata": {},
   "outputs": [
    {
     "data": {
      "text/html": [
       "<div>\n",
       "<style scoped>\n",
       "    .dataframe tbody tr th:only-of-type {\n",
       "        vertical-align: middle;\n",
       "    }\n",
       "\n",
       "    .dataframe tbody tr th {\n",
       "        vertical-align: top;\n",
       "    }\n",
       "\n",
       "    .dataframe thead th {\n",
       "        text-align: right;\n",
       "    }\n",
       "</style>\n",
       "<table border=\"1\" class=\"dataframe\">\n",
       "  <thead>\n",
       "    <tr style=\"text-align: right;\">\n",
       "      <th></th>\n",
       "      <th>Review</th>\n",
       "      <th>Rating</th>\n",
       "      <th>Date</th>\n",
       "      <th>Country</th>\n",
       "      <th>Verified</th>\n",
       "      <th>Corpus</th>\n",
       "      <th>Formatted Date</th>\n",
       "    </tr>\n",
       "  </thead>\n",
       "  <tbody>\n",
       "  </tbody>\n",
       "</table>\n",
       "</div>"
      ],
      "text/plain": [
       "Empty DataFrame\n",
       "Columns: [Review, Rating, Date, Country, Verified, Corpus, Formatted Date]\n",
       "Index: []"
      ]
     },
     "execution_count": 14,
     "metadata": {},
     "output_type": "execute_result"
    }
   ],
   "source": [
    "df[pd.isna(df['Rating'])]"
   ]
  },
  {
   "cell_type": "markdown",
   "id": "36612d08",
   "metadata": {},
   "source": [
    "<hr>\n",
    "\n",
    "## Country Column"
   ]
  },
  {
   "cell_type": "code",
   "execution_count": 15,
   "id": "f8c4d331",
   "metadata": {},
   "outputs": [
    {
     "data": {
      "text/plain": [
       "array(['United Kingdom', 'Netherlands', 'United States', 'Australia',\n",
       "       'Italy', 'France', 'Germany', 'Switzerland', 'South Africa',\n",
       "       'Canada', 'Kuwait', 'Iceland', 'Denmark', 'Poland', 'Hong Kong',\n",
       "       'Qatar', 'Spain', 'Greece', 'Senegal', 'United Arab Emirates',\n",
       "       'Romania', 'Cyprus', 'Chile', 'Sweden', 'Ireland', 'Austria',\n",
       "       'India', 'Belgium', 'New Zealand', 'Czech Republic', 'Malaysia',\n",
       "       'Singapore', 'Ghana', 'Bermuda', 'Botswana', 'Brazil', 'Panama',\n",
       "       'Nigeria', 'Russian Federation', 'Philippines', 'Bulgaria',\n",
       "       'Thailand', 'Argentina', 'Mexico', 'Saint Kitts and Nevis',\n",
       "       'Vietnam', 'Norway', 'Jordan', 'Japan', 'Taiwan', 'China',\n",
       "       'Slovakia', 'Israel', 'South Korea', 'Saudi Arabia', 'Hungary',\n",
       "       'Portugal', 'Cayman Islands', 'Costa Rica', 'Egypt', 'Laos',\n",
       "       'Turkey', 'Indonesia', 'Bahrain', 'Dominican Republic',\n",
       "       'Luxembourg', 'Finland', 'Ukraine', nan, 'Trinidad & Tobago',\n",
       "       'Barbados', 'Oman'], dtype=object)"
      ]
     },
     "execution_count": 15,
     "metadata": {},
     "output_type": "execute_result"
    }
   ],
   "source": [
    "df.Country.unique()"
   ]
  },
  {
   "cell_type": "markdown",
   "id": "af69a2d5",
   "metadata": {},
   "source": [
    "**Checking NaN Rows**"
   ]
  },
  {
   "cell_type": "code",
   "execution_count": 16,
   "id": "9109e3a4",
   "metadata": {},
   "outputs": [
    {
     "data": {
      "text/html": [
       "<div>\n",
       "<style scoped>\n",
       "    .dataframe tbody tr th:only-of-type {\n",
       "        vertical-align: middle;\n",
       "    }\n",
       "\n",
       "    .dataframe tbody tr th {\n",
       "        vertical-align: top;\n",
       "    }\n",
       "\n",
       "    .dataframe thead th {\n",
       "        text-align: right;\n",
       "    }\n",
       "</style>\n",
       "<table border=\"1\" class=\"dataframe\">\n",
       "  <thead>\n",
       "    <tr style=\"text-align: right;\">\n",
       "      <th></th>\n",
       "      <th>Review</th>\n",
       "      <th>Rating</th>\n",
       "      <th>Date</th>\n",
       "      <th>Country</th>\n",
       "      <th>Verified</th>\n",
       "      <th>Corpus</th>\n",
       "      <th>Formatted Date</th>\n",
       "    </tr>\n",
       "  </thead>\n",
       "  <tbody>\n",
       "    <tr>\n",
       "      <th>3041</th>\n",
       "      <td>I travelled from London to Jo'burg and back on...</td>\n",
       "      <td>1.0</td>\n",
       "      <td>8th April 2015</td>\n",
       "      <td>NaN</td>\n",
       "      <td>False</td>\n",
       "      <td>travelled london jo burg back airbus mixed exp...</td>\n",
       "      <td>08-04-2015</td>\n",
       "    </tr>\n",
       "    <tr>\n",
       "      <th>3347</th>\n",
       "      <td>St Lucia to London round trip. Full flight bot...</td>\n",
       "      <td>9.0</td>\n",
       "      <td>20th October 2014</td>\n",
       "      <td>NaN</td>\n",
       "      <td>False</td>\n",
       "      <td>st lucia london round trip full flight way qui...</td>\n",
       "      <td>20-10-2014</td>\n",
       "    </tr>\n",
       "  </tbody>\n",
       "</table>\n",
       "</div>"
      ],
      "text/plain": [
       "                                                 Review  Rating  \\\n",
       "3041  I travelled from London to Jo'burg and back on...     1.0   \n",
       "3347  St Lucia to London round trip. Full flight bot...     9.0   \n",
       "\n",
       "                   Date Country  Verified  \\\n",
       "3041     8th April 2015     NaN     False   \n",
       "3347  20th October 2014     NaN     False   \n",
       "\n",
       "                                                 Corpus Formatted Date  \n",
       "3041  travelled london jo burg back airbus mixed exp...     08-04-2015  \n",
       "3347  st lucia london round trip full flight way qui...     20-10-2014  "
      ]
     },
     "execution_count": 16,
     "metadata": {},
     "output_type": "execute_result"
    }
   ],
   "source": [
    "df[pd.isna(df['Country'])]"
   ]
  },
  {
   "cell_type": "code",
   "execution_count": 17,
   "id": "1e4f43fd",
   "metadata": {},
   "outputs": [],
   "source": [
    "df.drop(df[pd.isna(df['Country'])].index, inplace=True)"
   ]
  },
  {
   "cell_type": "code",
   "execution_count": 18,
   "id": "8ad0cf23",
   "metadata": {},
   "outputs": [
    {
     "data": {
      "text/html": [
       "<div>\n",
       "<style scoped>\n",
       "    .dataframe tbody tr th:only-of-type {\n",
       "        vertical-align: middle;\n",
       "    }\n",
       "\n",
       "    .dataframe tbody tr th {\n",
       "        vertical-align: top;\n",
       "    }\n",
       "\n",
       "    .dataframe thead th {\n",
       "        text-align: right;\n",
       "    }\n",
       "</style>\n",
       "<table border=\"1\" class=\"dataframe\">\n",
       "  <thead>\n",
       "    <tr style=\"text-align: right;\">\n",
       "      <th></th>\n",
       "      <th>Review</th>\n",
       "      <th>Rating</th>\n",
       "      <th>Date</th>\n",
       "      <th>Country</th>\n",
       "      <th>Verified</th>\n",
       "      <th>Corpus</th>\n",
       "      <th>Formatted Date</th>\n",
       "    </tr>\n",
       "  </thead>\n",
       "  <tbody>\n",
       "  </tbody>\n",
       "</table>\n",
       "</div>"
      ],
      "text/plain": [
       "Empty DataFrame\n",
       "Columns: [Review, Rating, Date, Country, Verified, Corpus, Formatted Date]\n",
       "Index: []"
      ]
     },
     "execution_count": 18,
     "metadata": {},
     "output_type": "execute_result"
    }
   ],
   "source": [
    "df[pd.isna(df['Rating'])]"
   ]
  },
  {
   "cell_type": "markdown",
   "id": "d1e8f812",
   "metadata": {},
   "source": [
    "<hr>\n",
    "\n",
    "## Resetting the Index"
   ]
  },
  {
   "cell_type": "code",
   "execution_count": 19,
   "id": "bd3591d9",
   "metadata": {},
   "outputs": [
    {
     "data": {
      "text/html": [
       "<div>\n",
       "<style scoped>\n",
       "    .dataframe tbody tr th:only-of-type {\n",
       "        vertical-align: middle;\n",
       "    }\n",
       "\n",
       "    .dataframe tbody tr th {\n",
       "        vertical-align: top;\n",
       "    }\n",
       "\n",
       "    .dataframe thead th {\n",
       "        text-align: right;\n",
       "    }\n",
       "</style>\n",
       "<table border=\"1\" class=\"dataframe\">\n",
       "  <thead>\n",
       "    <tr style=\"text-align: right;\">\n",
       "      <th></th>\n",
       "      <th>Review</th>\n",
       "      <th>Rating</th>\n",
       "      <th>Date</th>\n",
       "      <th>Country</th>\n",
       "      <th>Verified</th>\n",
       "      <th>Corpus</th>\n",
       "      <th>Formatted Date</th>\n",
       "    </tr>\n",
       "  </thead>\n",
       "  <tbody>\n",
       "    <tr>\n",
       "      <th>0</th>\n",
       "      <td>Not Verified |   Flew back from Malta after sc...</td>\n",
       "      <td>5.0</td>\n",
       "      <td>22nd October 2023</td>\n",
       "      <td>United Kingdom</td>\n",
       "      <td>False</td>\n",
       "      <td>flew back malta scattering son ash favourite s...</td>\n",
       "      <td>22-10-2023</td>\n",
       "    </tr>\n",
       "    <tr>\n",
       "      <th>1</th>\n",
       "      <td>Not Verified | Cabin luggage had to go to carg...</td>\n",
       "      <td>8.0</td>\n",
       "      <td>21st October 2023</td>\n",
       "      <td>Netherlands</td>\n",
       "      <td>False</td>\n",
       "      <td>cabin luggage go cargo even said carried medic...</td>\n",
       "      <td>21-10-2023</td>\n",
       "    </tr>\n",
       "    <tr>\n",
       "      <th>2</th>\n",
       "      <td>✅ Trip Verified |  I have been using BA for a ...</td>\n",
       "      <td>3.0</td>\n",
       "      <td>21st October 2023</td>\n",
       "      <td>United Kingdom</td>\n",
       "      <td>True</td>\n",
       "      <td>using ba average cannot say pretty satisfied b...</td>\n",
       "      <td>21-10-2023</td>\n",
       "    </tr>\n",
       "    <tr>\n",
       "      <th>3</th>\n",
       "      <td>✅ Trip Verified |   I flew from Istanbul to Lo...</td>\n",
       "      <td>4.0</td>\n",
       "      <td>19th October 2023</td>\n",
       "      <td>United Kingdom</td>\n",
       "      <td>True</td>\n",
       "      <td>flew istanbul london business class half fligh...</td>\n",
       "      <td>19-10-2023</td>\n",
       "    </tr>\n",
       "    <tr>\n",
       "      <th>4</th>\n",
       "      <td>Not Verified |  I have flow on BA several time...</td>\n",
       "      <td>1.0</td>\n",
       "      <td>19th October 2023</td>\n",
       "      <td>United States</td>\n",
       "      <td>False</td>\n",
       "      <td>flow ba several time since airline started non...</td>\n",
       "      <td>19-10-2023</td>\n",
       "    </tr>\n",
       "    <tr>\n",
       "      <th>...</th>\n",
       "      <td>...</td>\n",
       "      <td>...</td>\n",
       "      <td>...</td>\n",
       "      <td>...</td>\n",
       "      <td>...</td>\n",
       "      <td>...</td>\n",
       "      <td>...</td>\n",
       "    </tr>\n",
       "    <tr>\n",
       "      <th>3673</th>\n",
       "      <td>This was a bmi Regional operated flight on a R...</td>\n",
       "      <td>8.0</td>\n",
       "      <td>29th August 2012</td>\n",
       "      <td>United Kingdom</td>\n",
       "      <td>False</td>\n",
       "      <td>bmi regional operated flight rj manchester hea...</td>\n",
       "      <td>29-08-2012</td>\n",
       "    </tr>\n",
       "    <tr>\n",
       "      <th>3674</th>\n",
       "      <td>LHR to HAM. Purser addresses all club passenge...</td>\n",
       "      <td>2.0</td>\n",
       "      <td>28th August 2012</td>\n",
       "      <td>United Kingdom</td>\n",
       "      <td>False</td>\n",
       "      <td>lhr ham purser address club passenger name boa...</td>\n",
       "      <td>28-08-2012</td>\n",
       "    </tr>\n",
       "    <tr>\n",
       "      <th>3675</th>\n",
       "      <td>My son who had worked for British Airways urge...</td>\n",
       "      <td>7.0</td>\n",
       "      <td>12th October 2011</td>\n",
       "      <td>United Kingdom</td>\n",
       "      <td>False</td>\n",
       "      <td>son worked british airway urged fly british ai...</td>\n",
       "      <td>12-10-2011</td>\n",
       "    </tr>\n",
       "    <tr>\n",
       "      <th>3676</th>\n",
       "      <td>London City-New York JFK via Shannon on A318 b...</td>\n",
       "      <td>1.0</td>\n",
       "      <td>11th October 2011</td>\n",
       "      <td>United States</td>\n",
       "      <td>False</td>\n",
       "      <td>london city new york jfk via shannon really ni...</td>\n",
       "      <td>11-10-2011</td>\n",
       "    </tr>\n",
       "    <tr>\n",
       "      <th>3677</th>\n",
       "      <td>SIN-LHR BA12 B747-436 First Class. Old aircraf...</td>\n",
       "      <td>10.0</td>\n",
       "      <td>9th October 2011</td>\n",
       "      <td>United Kingdom</td>\n",
       "      <td>False</td>\n",
       "      <td>sin lhr ba b first class old aircraft seat pri...</td>\n",
       "      <td>09-10-2011</td>\n",
       "    </tr>\n",
       "  </tbody>\n",
       "</table>\n",
       "<p>3678 rows × 7 columns</p>\n",
       "</div>"
      ],
      "text/plain": [
       "                                                 Review  Rating  \\\n",
       "0     Not Verified |   Flew back from Malta after sc...     5.0   \n",
       "1     Not Verified | Cabin luggage had to go to carg...     8.0   \n",
       "2     ✅ Trip Verified |  I have been using BA for a ...     3.0   \n",
       "3     ✅ Trip Verified |   I flew from Istanbul to Lo...     4.0   \n",
       "4     Not Verified |  I have flow on BA several time...     1.0   \n",
       "...                                                 ...     ...   \n",
       "3673  This was a bmi Regional operated flight on a R...     8.0   \n",
       "3674  LHR to HAM. Purser addresses all club passenge...     2.0   \n",
       "3675  My son who had worked for British Airways urge...     7.0   \n",
       "3676  London City-New York JFK via Shannon on A318 b...     1.0   \n",
       "3677  SIN-LHR BA12 B747-436 First Class. Old aircraf...    10.0   \n",
       "\n",
       "                   Date         Country  Verified  \\\n",
       "0     22nd October 2023  United Kingdom     False   \n",
       "1     21st October 2023     Netherlands     False   \n",
       "2     21st October 2023  United Kingdom      True   \n",
       "3     19th October 2023  United Kingdom      True   \n",
       "4     19th October 2023   United States     False   \n",
       "...                 ...             ...       ...   \n",
       "3673   29th August 2012  United Kingdom     False   \n",
       "3674   28th August 2012  United Kingdom     False   \n",
       "3675  12th October 2011  United Kingdom     False   \n",
       "3676  11th October 2011   United States     False   \n",
       "3677   9th October 2011  United Kingdom     False   \n",
       "\n",
       "                                                 Corpus Formatted Date  \n",
       "0     flew back malta scattering son ash favourite s...     22-10-2023  \n",
       "1     cabin luggage go cargo even said carried medic...     21-10-2023  \n",
       "2     using ba average cannot say pretty satisfied b...     21-10-2023  \n",
       "3     flew istanbul london business class half fligh...     19-10-2023  \n",
       "4     flow ba several time since airline started non...     19-10-2023  \n",
       "...                                                 ...            ...  \n",
       "3673  bmi regional operated flight rj manchester hea...     29-08-2012  \n",
       "3674  lhr ham purser address club passenger name boa...     28-08-2012  \n",
       "3675  son worked british airway urged fly british ai...     12-10-2011  \n",
       "3676  london city new york jfk via shannon really ni...     11-10-2011  \n",
       "3677  sin lhr ba b first class old aircraft seat pri...     09-10-2011  \n",
       "\n",
       "[3678 rows x 7 columns]"
      ]
     },
     "execution_count": 19,
     "metadata": {},
     "output_type": "execute_result"
    }
   ],
   "source": [
    "df.reset_index(drop=True)"
   ]
  },
  {
   "cell_type": "markdown",
   "id": "d9e9e3c5",
   "metadata": {},
   "source": [
    "<hr>\n",
    "\n",
    "## Export the Cleaned CSV"
   ]
  },
  {
   "cell_type": "code",
   "execution_count": 20,
   "id": "c4e67e13",
   "metadata": {},
   "outputs": [],
   "source": [
    "df.to_csv(cwd + \"/Cleaned-BA-Reviews.csv\")"
   ]
  }
 ],
 "metadata": {
  "kernelspec": {
   "display_name": "Python 3 (ipykernel)",
   "language": "python",
   "name": "python3"
  },
  "language_info": {
   "codemirror_mode": {
    "name": "ipython",
    "version": 3
   },
   "file_extension": ".py",
   "mimetype": "text/x-python",
   "name": "python",
   "nbconvert_exporter": "python",
   "pygments_lexer": "ipython3",
   "version": "3.11.4"
  }
 },
 "nbformat": 4,
 "nbformat_minor": 5
}
