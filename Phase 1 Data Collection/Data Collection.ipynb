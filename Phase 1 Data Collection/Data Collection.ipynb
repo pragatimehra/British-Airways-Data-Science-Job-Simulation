{
 "cells": [
  {
   "cell_type": "markdown",
   "id": "50f6d465",
   "metadata": {},
   "source": [
    "# Data Collection\n",
    "\n",
    "**During this stage, our objective is to acquire customer rating data sourced from the airline quality portal known as Skytrax. To ensure comprehensive insight, we will gather the following information:**\n",
    "\n",
    "1. Written Reviews\n",
    "2. User Ratings\n",
    "3. Posting Dates\n",
    "4. User's Country\n",
    "\n",
    "Link to the website: https://www.airlinequality.com/airline-reviews/british-airways/?sortby=post_date%3ADesc&pagesize=100\n",
    "\n",
    "<hr>"
   ]
  },
  {
   "cell_type": "markdown",
   "id": "676d17a1",
   "metadata": {},
   "source": [
    "### Imports"
   ]
  },
  {
   "cell_type": "code",
   "execution_count": 1,
   "id": "d96ac7ca",
   "metadata": {},
   "outputs": [],
   "source": [
    "import pandas as pd\n",
    "import numpy as np\n",
    "from bs4 import BeautifulSoup\n",
    "import requests"
   ]
  },
  {
   "cell_type": "markdown",
   "id": "498f9700",
   "metadata": {},
   "source": [
    "### Lists for Individual Collection"
   ]
  },
  {
   "cell_type": "code",
   "execution_count": 2,
   "id": "31524e9d",
   "metadata": {},
   "outputs": [],
   "source": [
    "reviews  = []\n",
    "ratings = []\n",
    "date = []\n",
    "country = []"
   ]
  },
  {
   "cell_type": "markdown",
   "id": "b869c2f8",
   "metadata": {},
   "source": [
    "### Web Scrapping"
   ]
  },
  {
   "cell_type": "code",
   "execution_count": 3,
   "id": "28e0b3dc",
   "metadata": {},
   "outputs": [
    {
     "name": "stdout",
     "output_type": "stream",
     "text": [
      "Error on page 32\n",
      "Error on page 33\n",
      "Error on page 33\n",
      "Error on page 35\n",
      "Error on page 36\n"
     ]
    }
   ],
   "source": [
    "for i in range(1, 38):\n",
    "    \n",
    "    # Construct the URL for each page\n",
    "    page_url = f\"https://www.airlinequality.com/airline-reviews/british-airways/page/{i}/?sortby=post_date%3ADesc&pagesize=100\"\n",
    "    \n",
    "    # Send an HTTP GET request to the URL\n",
    "    page = requests.get(page_url)\n",
    "    \n",
    "    # Parse the page content with BeautifulSoup\n",
    "    soup = BeautifulSoup(page.content, \"html.parser\")\n",
    "    \n",
    "    # Extract reviews\n",
    "    for item in soup.find_all(\"div\", class_=\"text_content\"):\n",
    "        reviews.append(item.text)\n",
    "    \n",
    "    # Extract ratings\n",
    "    for item in soup.find_all(\"div\", class_=\"rating-10\"):\n",
    "        try:\n",
    "            ratings.append(item.span.text)\n",
    "        except:\n",
    "            print(f\"Error on page {i}\")\n",
    "            ratings.append(\"None\")\n",
    "    \n",
    "    # Extract dates\n",
    "    for item in soup.find_all(\"time\"):\n",
    "        date.append(item.text)\n",
    "        \n",
    "    # Extract reviewer countries\n",
    "    for item in soup.find_all(\"h3\"):\n",
    "        country.append(item.span.next_sibling.text.strip(\" ()\"))"
   ]
  },
  {
   "cell_type": "markdown",
   "id": "ab511cfc",
   "metadata": {},
   "source": [
    "### Checking Data for Proper Construction of Data Frame"
   ]
  },
  {
   "cell_type": "code",
   "execution_count": 4,
   "id": "26f28c05",
   "metadata": {},
   "outputs": [
    {
     "name": "stdout",
     "output_type": "stream",
     "text": [
      "Number of Reviews : 3685\n",
      "Number of Ratings : 3722\n",
      "Number of Date : 3685\n",
      "Number of Country : 3685\n"
     ]
    }
   ],
   "source": [
    "print(f'Number of Reviews : {len(reviews)}')\n",
    "print(f'Number of Ratings : {len(ratings)}')\n",
    "print(f'Number of Date : {len(date)}')\n",
    "print(f'Number of Country : {len(country)}')"
   ]
  },
  {
   "cell_type": "markdown",
   "id": "68affb14",
   "metadata": {},
   "source": [
    "#### Matching Ratings length with other lengths"
   ]
  },
  {
   "cell_type": "code",
   "execution_count": 5,
   "id": "c6b3b86c",
   "metadata": {},
   "outputs": [],
   "source": [
    "ratings = ratings[:len(reviews)]"
   ]
  },
  {
   "cell_type": "code",
   "execution_count": 6,
   "id": "3e59287d",
   "metadata": {},
   "outputs": [
    {
     "data": {
      "text/plain": [
       "3685"
      ]
     },
     "execution_count": 6,
     "metadata": {},
     "output_type": "execute_result"
    }
   ],
   "source": [
    "len(ratings)"
   ]
  },
  {
   "cell_type": "markdown",
   "id": "62ad354f",
   "metadata": {},
   "source": [
    "### Constructing DataFrame"
   ]
  },
  {
   "cell_type": "code",
   "execution_count": 7,
   "id": "5fcc823a",
   "metadata": {},
   "outputs": [],
   "source": [
    "data = {\n",
    "    'Review': reviews,\n",
    "    'Rating': ratings,\n",
    "    'Date': date,\n",
    "    'Country': country\n",
    "}\n",
    "\n",
    "df = pd.DataFrame(data)"
   ]
  },
  {
   "cell_type": "code",
   "execution_count": 8,
   "id": "dd27bb93",
   "metadata": {},
   "outputs": [
    {
     "data": {
      "text/html": [
       "<div>\n",
       "<style scoped>\n",
       "    .dataframe tbody tr th:only-of-type {\n",
       "        vertical-align: middle;\n",
       "    }\n",
       "\n",
       "    .dataframe tbody tr th {\n",
       "        vertical-align: top;\n",
       "    }\n",
       "\n",
       "    .dataframe thead th {\n",
       "        text-align: right;\n",
       "    }\n",
       "</style>\n",
       "<table border=\"1\" class=\"dataframe\">\n",
       "  <thead>\n",
       "    <tr style=\"text-align: right;\">\n",
       "      <th></th>\n",
       "      <th>Review</th>\n",
       "      <th>Rating</th>\n",
       "      <th>Date</th>\n",
       "      <th>Country</th>\n",
       "    </tr>\n",
       "  </thead>\n",
       "  <tbody>\n",
       "    <tr>\n",
       "      <th>0</th>\n",
       "      <td>Not Verified |   Flew back from Malta after sc...</td>\n",
       "      <td>\\n\\t\\t\\t\\t\\t\\t\\t\\t\\t\\t\\t\\t\\t5</td>\n",
       "      <td>22nd October 2023</td>\n",
       "      <td>United Kingdom</td>\n",
       "    </tr>\n",
       "    <tr>\n",
       "      <th>1</th>\n",
       "      <td>Not Verified | Cabin luggage had to go to carg...</td>\n",
       "      <td>8</td>\n",
       "      <td>21st October 2023</td>\n",
       "      <td>Netherlands</td>\n",
       "    </tr>\n",
       "    <tr>\n",
       "      <th>2</th>\n",
       "      <td>✅ Trip Verified |  I have been using BA for a ...</td>\n",
       "      <td>3</td>\n",
       "      <td>21st October 2023</td>\n",
       "      <td>United Kingdom</td>\n",
       "    </tr>\n",
       "    <tr>\n",
       "      <th>3</th>\n",
       "      <td>✅ Trip Verified |   I flew from Istanbul to Lo...</td>\n",
       "      <td>4</td>\n",
       "      <td>19th October 2023</td>\n",
       "      <td>United Kingdom</td>\n",
       "    </tr>\n",
       "    <tr>\n",
       "      <th>4</th>\n",
       "      <td>Not Verified |  I have flow on BA several time...</td>\n",
       "      <td>1</td>\n",
       "      <td>19th October 2023</td>\n",
       "      <td>United States</td>\n",
       "    </tr>\n",
       "  </tbody>\n",
       "</table>\n",
       "</div>"
      ],
      "text/plain": [
       "                                              Review  \\\n",
       "0  Not Verified |   Flew back from Malta after sc...   \n",
       "1  Not Verified | Cabin luggage had to go to carg...   \n",
       "2  ✅ Trip Verified |  I have been using BA for a ...   \n",
       "3  ✅ Trip Verified |   I flew from Istanbul to Lo...   \n",
       "4  Not Verified |  I have flow on BA several time...   \n",
       "\n",
       "                          Rating               Date         Country  \n",
       "0  \\n\\t\\t\\t\\t\\t\\t\\t\\t\\t\\t\\t\\t\\t5  22nd October 2023  United Kingdom  \n",
       "1                              8  21st October 2023     Netherlands  \n",
       "2                              3  21st October 2023  United Kingdom  \n",
       "3                              4  19th October 2023  United Kingdom  \n",
       "4                              1  19th October 2023   United States  "
      ]
     },
     "execution_count": 8,
     "metadata": {},
     "output_type": "execute_result"
    }
   ],
   "source": [
    "df.head(5)"
   ]
  },
  {
   "cell_type": "markdown",
   "id": "2ba796ce",
   "metadata": {},
   "source": [
    "### Saving DataFrame as `csv` file"
   ]
  },
  {
   "cell_type": "code",
   "execution_count": 9,
   "id": "067a664e",
   "metadata": {},
   "outputs": [],
   "source": [
    "import os\n",
    "\n",
    "cwd = os.getcwd()\n",
    "df.to_csv(cwd+ \"/BA_Reviews.csv\")"
   ]
  },
  {
   "cell_type": "code",
   "execution_count": null,
   "id": "93ecb582",
   "metadata": {},
   "outputs": [],
   "source": []
  }
 ],
 "metadata": {
  "kernelspec": {
   "display_name": "Python 3 (ipykernel)",
   "language": "python",
   "name": "python3"
  },
  "language_info": {
   "codemirror_mode": {
    "name": "ipython",
    "version": 3
   },
   "file_extension": ".py",
   "mimetype": "text/x-python",
   "name": "python",
   "nbconvert_exporter": "python",
   "pygments_lexer": "ipython3",
   "version": "3.11.4"
  }
 },
 "nbformat": 4,
 "nbformat_minor": 5
}
